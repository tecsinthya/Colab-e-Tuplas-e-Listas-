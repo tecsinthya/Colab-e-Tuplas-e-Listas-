{
  "nbformat": 4,
  "nbformat_minor": 0,
  "metadata": {
    "colab": {
      "provenance": []
    },
    "kernelspec": {
      "name": "python3",
      "display_name": "Python 3"
    },
    "language_info": {
      "name": "python"
    }
  },
  "cells": [
    {
      "cell_type": "code",
      "execution_count": 13,
      "metadata": {
        "colab": {
          "base_uri": "https://localhost:8080/"
        },
        "id": "KShcK7fYz3On",
        "outputId": "dafaca9a-1808-40b2-8f80-f8ae82a6dd95"
      },
      "outputs": [
        {
          "output_type": "stream",
          "name": "stdout",
          "text": [
            "[1, 2, 3, 5, 8, 10, -8, 60, -37]\n"
          ]
        }
      ],
      "source": [
        "lista = [1, 2, 3,]\n",
        "lista.append(5)\n",
        "lista.append(8)\n",
        "lista.append(10)\n",
        "lista.append(-8)\n",
        "lista.append(60)\n",
        "lista.append(-37)\n",
        "print(lista)\n",
        "\n",
        "\n",
        "\n",
        "\n",
        "\n",
        "\n"
      ]
    },
    {
      "cell_type": "code",
      "source": [],
      "metadata": {
        "id": "UKXaNGH60Imu"
      },
      "execution_count": null,
      "outputs": []
    }
  ]
}