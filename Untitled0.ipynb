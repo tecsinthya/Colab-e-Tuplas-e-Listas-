{
  "nbformat": 4,
  "nbformat_minor": 0,
  "metadata": {
    "colab": {
      "provenance": []
    },
    "kernelspec": {
      "name": "python3",
      "display_name": "Python 3"
    },
    "language_info": {
      "name": "python"
    }
  },
  "cells": [
    {
      "cell_type": "code",
      "execution_count": 7,
      "metadata": {
        "colab": {
          "base_uri": "https://localhost:8080/"
        },
        "id": "KShcK7fYz3On",
        "outputId": "cf4bfe13-eaeb-4dc4-ef82-5bc6d419bc6f"
      },
      "outputs": [
        {
          "output_type": "stream",
          "name": "stdout",
          "text": [
            "4\n",
            "5\n",
            "10\n",
            "17\n",
            "25\n",
            "28\n",
            "31\n"
          ]
        }
      ],
      "source": [
        "tupla = ( 4, 5, 10, 17, 25, 28, 31)\n",
        "print(tupla [0])\n",
        "print(tupla [1])\n",
        "print(tupla [2])\n",
        "print(tupla [3])\n",
        "print(tupla [4])\n",
        "print(tupla [5])\n",
        "print(tupla [6])\n",
        "\n",
        "\n",
        "\n",
        "\n",
        "\n"
      ]
    },
    {
      "cell_type": "code",
      "source": [],
      "metadata": {
        "id": "UKXaNGH60Imu"
      },
      "execution_count": null,
      "outputs": []
    }
  ]
}