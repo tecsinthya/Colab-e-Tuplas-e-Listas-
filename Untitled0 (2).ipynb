{
  "nbformat": 4,
  "nbformat_minor": 0,
  "metadata": {
    "colab": {
      "provenance": []
    },
    "kernelspec": {
      "name": "python3",
      "display_name": "Python 3"
    },
    "language_info": {
      "name": "python"
    }
  },
  "cells": [
    {
      "cell_type": "code",
      "execution_count": 16,
      "metadata": {
        "colab": {
          "base_uri": "https://localhost:8080/"
        },
        "id": "KShcK7fYz3On",
        "outputId": "235994e0-72af-47b3-aa2b-d1050d010de7"
      },
      "outputs": [
        {
          "output_type": "stream",
          "name": "stdout",
          "text": [
            "[1, 3, 7, 9, 11, 15]\n",
            "[1, 7, 9, 11, 15]\n",
            "[1, 7, 11, 15]\n",
            "[1, 7, 15]\n"
          ]
        }
      ],
      "source": [
        "lista = [1,2,3,7,9,11,15]\n",
        "lista.remove(2)\n",
        "print(lista)\n",
        "lista.remove(3)\n",
        "print(lista)\n",
        "lista.remove(9)\n",
        "print(lista)\n",
        "lista.remove(11)\n",
        "print(lista)\n",
        "\n",
        "\n",
        "\n",
        "\n",
        "\n",
        "\n"
      ]
    },
    {
      "cell_type": "code",
      "source": [],
      "metadata": {
        "id": "UKXaNGH60Imu"
      },
      "execution_count": null,
      "outputs": []
    }
  ]
}